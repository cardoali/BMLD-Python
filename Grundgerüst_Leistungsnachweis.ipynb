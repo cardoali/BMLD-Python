{
 "cells": [
  {
   "cell_type": "markdown",
   "id": "2341b96f",
   "metadata": {},
   "source": [
    "# Grundgerüst Leistungsausweis\n",
    "Dieses Notebook soll euch als Grundgerüst für euren Leistungsnachweis dienen. Es soll euch eine Idee/ Hilfestellung bieten, wie man einen neuen Datensatz, basierend auf einer Fragestellung, strukturiert analysieren und interpretieren kann. Wie besagt, dient das Notebook als Hilfestellung, ist jedoch keinenfalls vollständig ausgeschöpft. In diesem Sinne dürft ihr auch gerne Sachen miteinbeziehen, welche hier nicht genannt werden. \n",
    "\n",
    "-> Bitte schreibt die Antwort zu den jeweiligen Punkten an oberster Stelle unterhalb der Titel (so wie dies auch im Leistungsnachweisbeispiel gemacht wurde).\n",
    "\n",
    "\n",
    "## Struktur\n",
    "1. Fragestellung(en) und Datenbeschaffung\n",
    "2. Daten laden\n",
    "3. Daten vorbereiten\n",
    "4. Statistik der Rohdaten (Generell im Longformat)\n",
    "5. Analyse der Daten\n",
    "\n",
    "**Wichtig:** Alle graphischen Darstellungen sollten mindestens *Titel, Ticks- und Achsenbeschriftung* beinhalten (Siehe plots im Leistungsnachweisbeispiel)\n",
    "\n",
    "---"
   ]
  },
  {
   "cell_type": "markdown",
   "id": "f9e9bf68",
   "metadata": {},
   "source": [
    "## 1. Fragestellung(en) und Datenbeschaffung\n",
    "### 1.1 Titel: \n",
    "- \"Globale Suizidraten\"\n",
    "### 1.2 Fragestellung:\n",
    "- \"In welchem Land hat sich die Suizidrate pro 100'000 Einwohner in den letzten 10 Jahren am meiten gesteigert.\"   \n",
    "### 1.3 Datenquelle(n):\n",
    "Beispiele für mögliche Datenquellen:\n",
    "- https://ourworldindata.org/suicide\n",
    "\n",
    "\n"
   ]
  },
  {
   "cell_type": "markdown",
   "metadata": {},
   "source": [
    "### 1.4 Daten beschaffen und laden"
   ]
  },
  {
   "cell_type": "code",
   "execution_count": 1,
   "id": "a27050af",
   "metadata": {},
   "outputs": [],
   "source": [
    "import pandas as pd\n",
    "import seaborn as sns\n",
    "from matplotlib import pyplot as plt"
   ]
  },
  {
   "cell_type": "code",
   "execution_count": 2,
   "id": "47a24830",
   "metadata": {},
   "outputs": [
    {
     "data": {
      "text/html": [
       "<div>\n",
       "<style scoped>\n",
       "    .dataframe tbody tr th:only-of-type {\n",
       "        vertical-align: middle;\n",
       "    }\n",
       "\n",
       "    .dataframe tbody tr th {\n",
       "        vertical-align: top;\n",
       "    }\n",
       "\n",
       "    .dataframe thead th {\n",
       "        text-align: right;\n",
       "    }\n",
       "</style>\n",
       "<table border=\"1\" class=\"dataframe\">\n",
       "  <thead>\n",
       "    <tr style=\"text-align: right;\">\n",
       "      <th></th>\n",
       "      <th>Gebiet</th>\n",
       "      <th>Code</th>\n",
       "      <th>Jahr</th>\n",
       "      <th>Suizidrate</th>\n",
       "    </tr>\n",
       "  </thead>\n",
       "  <tbody>\n",
       "    <tr>\n",
       "      <th>0</th>\n",
       "      <td>Afghanistan</td>\n",
       "      <td>AFG</td>\n",
       "      <td>2000</td>\n",
       "      <td>7.197108</td>\n",
       "    </tr>\n",
       "    <tr>\n",
       "      <th>1</th>\n",
       "      <td>Afghanistan</td>\n",
       "      <td>AFG</td>\n",
       "      <td>2001</td>\n",
       "      <td>7.281792</td>\n",
       "    </tr>\n",
       "    <tr>\n",
       "      <th>2</th>\n",
       "      <td>Afghanistan</td>\n",
       "      <td>AFG</td>\n",
       "      <td>2002</td>\n",
       "      <td>7.123594</td>\n",
       "    </tr>\n",
       "    <tr>\n",
       "      <th>3</th>\n",
       "      <td>Afghanistan</td>\n",
       "      <td>AFG</td>\n",
       "      <td>2003</td>\n",
       "      <td>7.053904</td>\n",
       "    </tr>\n",
       "    <tr>\n",
       "      <th>4</th>\n",
       "      <td>Afghanistan</td>\n",
       "      <td>AFG</td>\n",
       "      <td>2004</td>\n",
       "      <td>7.034545</td>\n",
       "    </tr>\n",
       "  </tbody>\n",
       "</table>\n",
       "</div>"
      ],
      "text/plain": [
       "        Gebiet Code  Jahr  Suizidrate\n",
       "0  Afghanistan  AFG  2000    7.197108\n",
       "1  Afghanistan  AFG  2001    7.281792\n",
       "2  Afghanistan  AFG  2002    7.123594\n",
       "3  Afghanistan  AFG  2003    7.053904\n",
       "4  Afghanistan  AFG  2004    7.034545"
      ]
     },
     "execution_count": 2,
     "metadata": {},
     "output_type": "execute_result"
    }
   ],
   "source": [
    "df = pd.read_csv('death-rate-from-suicides-gho.csv', skiprows=1,\n",
    "                 names=['Gebiet','Code','Jahr','Suizidrate']) \n",
    "df.head() "
   ]
  },
  {
   "cell_type": "markdown",
   "id": "25d1e798",
   "metadata": {},
   "source": [
    "## 2. Daten vorbereiten \n",
    "- Die Roh-Daten befinden sich in einem Long Format\n",
    "- Die Daten werden anhand eines Pivot Tables analysiert: \n",
    "- Relevant für die Fragestellung sind die Daten der letzten 10 Jahre. "
   ]
  },
  {
   "cell_type": "code",
   "execution_count": 3,
   "id": "7f4fefb8",
   "metadata": {},
   "outputs": [
    {
     "data": {
      "text/html": [
       "<div>\n",
       "<style scoped>\n",
       "    .dataframe tbody tr th:only-of-type {\n",
       "        vertical-align: middle;\n",
       "    }\n",
       "\n",
       "    .dataframe tbody tr th {\n",
       "        vertical-align: top;\n",
       "    }\n",
       "\n",
       "    .dataframe thead th {\n",
       "        text-align: right;\n",
       "    }\n",
       "</style>\n",
       "<table border=\"1\" class=\"dataframe\">\n",
       "  <thead>\n",
       "    <tr style=\"text-align: right;\">\n",
       "      <th>Jahr</th>\n",
       "      <th>2000</th>\n",
       "      <th>2001</th>\n",
       "      <th>2002</th>\n",
       "      <th>2003</th>\n",
       "      <th>2004</th>\n",
       "      <th>2005</th>\n",
       "      <th>2006</th>\n",
       "      <th>2007</th>\n",
       "      <th>2008</th>\n",
       "      <th>2009</th>\n",
       "      <th>...</th>\n",
       "      <th>2012</th>\n",
       "      <th>2013</th>\n",
       "      <th>2014</th>\n",
       "      <th>2015</th>\n",
       "      <th>2016</th>\n",
       "      <th>2017</th>\n",
       "      <th>2018</th>\n",
       "      <th>2019</th>\n",
       "      <th>2020</th>\n",
       "      <th>2021</th>\n",
       "    </tr>\n",
       "    <tr>\n",
       "      <th>Gebiet</th>\n",
       "      <th></th>\n",
       "      <th></th>\n",
       "      <th></th>\n",
       "      <th></th>\n",
       "      <th></th>\n",
       "      <th></th>\n",
       "      <th></th>\n",
       "      <th></th>\n",
       "      <th></th>\n",
       "      <th></th>\n",
       "      <th></th>\n",
       "      <th></th>\n",
       "      <th></th>\n",
       "      <th></th>\n",
       "      <th></th>\n",
       "      <th></th>\n",
       "      <th></th>\n",
       "      <th></th>\n",
       "      <th></th>\n",
       "      <th></th>\n",
       "      <th></th>\n",
       "    </tr>\n",
       "  </thead>\n",
       "  <tbody>\n",
       "    <tr>\n",
       "      <th>Afghanistan</th>\n",
       "      <td>7.197108</td>\n",
       "      <td>7.281792</td>\n",
       "      <td>7.123594</td>\n",
       "      <td>7.053904</td>\n",
       "      <td>7.034545</td>\n",
       "      <td>6.910225</td>\n",
       "      <td>6.608689</td>\n",
       "      <td>6.476178</td>\n",
       "      <td>6.302887</td>\n",
       "      <td>5.891947</td>\n",
       "      <td>...</td>\n",
       "      <td>5.774172</td>\n",
       "      <td>5.685669</td>\n",
       "      <td>5.535404</td>\n",
       "      <td>5.319865</td>\n",
       "      <td>5.322144</td>\n",
       "      <td>5.470633</td>\n",
       "      <td>5.424701</td>\n",
       "      <td>5.367804</td>\n",
       "      <td>5.324850</td>\n",
       "      <td>5.320608</td>\n",
       "    </tr>\n",
       "    <tr>\n",
       "      <th>Africa</th>\n",
       "      <td>10.093091</td>\n",
       "      <td>10.013195</td>\n",
       "      <td>10.017222</td>\n",
       "      <td>10.010037</td>\n",
       "      <td>9.915320</td>\n",
       "      <td>9.732854</td>\n",
       "      <td>9.715343</td>\n",
       "      <td>9.649155</td>\n",
       "      <td>9.645603</td>\n",
       "      <td>9.606206</td>\n",
       "      <td>...</td>\n",
       "      <td>9.522184</td>\n",
       "      <td>9.436768</td>\n",
       "      <td>9.414608</td>\n",
       "      <td>9.401263</td>\n",
       "      <td>9.310595</td>\n",
       "      <td>9.228361</td>\n",
       "      <td>9.374145</td>\n",
       "      <td>9.355742</td>\n",
       "      <td>9.379318</td>\n",
       "      <td>9.580948</td>\n",
       "    </tr>\n",
       "    <tr>\n",
       "      <th>Albania</th>\n",
       "      <td>5.104753</td>\n",
       "      <td>4.418037</td>\n",
       "      <td>4.479788</td>\n",
       "      <td>4.595087</td>\n",
       "      <td>4.502845</td>\n",
       "      <td>6.913495</td>\n",
       "      <td>6.862893</td>\n",
       "      <td>6.947456</td>\n",
       "      <td>6.954976</td>\n",
       "      <td>6.820407</td>\n",
       "      <td>...</td>\n",
       "      <td>4.092385</td>\n",
       "      <td>4.056547</td>\n",
       "      <td>3.798754</td>\n",
       "      <td>3.580979</td>\n",
       "      <td>3.450706</td>\n",
       "      <td>3.292069</td>\n",
       "      <td>3.141507</td>\n",
       "      <td>3.026028</td>\n",
       "      <td>2.507422</td>\n",
       "      <td>2.143994</td>\n",
       "    </tr>\n",
       "    <tr>\n",
       "      <th>Algeria</th>\n",
       "      <td>4.140792</td>\n",
       "      <td>3.921089</td>\n",
       "      <td>3.803862</td>\n",
       "      <td>3.521953</td>\n",
       "      <td>3.327965</td>\n",
       "      <td>3.218484</td>\n",
       "      <td>3.081167</td>\n",
       "      <td>2.945067</td>\n",
       "      <td>2.815762</td>\n",
       "      <td>2.683964</td>\n",
       "      <td>...</td>\n",
       "      <td>2.364761</td>\n",
       "      <td>2.327027</td>\n",
       "      <td>2.295923</td>\n",
       "      <td>2.225488</td>\n",
       "      <td>2.135747</td>\n",
       "      <td>2.136896</td>\n",
       "      <td>2.172493</td>\n",
       "      <td>2.170682</td>\n",
       "      <td>1.848795</td>\n",
       "      <td>2.320863</td>\n",
       "    </tr>\n",
       "    <tr>\n",
       "      <th>Andorra</th>\n",
       "      <td>9.685721</td>\n",
       "      <td>10.776894</td>\n",
       "      <td>10.718483</td>\n",
       "      <td>9.985846</td>\n",
       "      <td>11.859435</td>\n",
       "      <td>10.398196</td>\n",
       "      <td>10.702955</td>\n",
       "      <td>10.374284</td>\n",
       "      <td>10.033582</td>\n",
       "      <td>9.822695</td>\n",
       "      <td>...</td>\n",
       "      <td>8.119903</td>\n",
       "      <td>9.338710</td>\n",
       "      <td>9.277415</td>\n",
       "      <td>9.163852</td>\n",
       "      <td>9.708513</td>\n",
       "      <td>8.330241</td>\n",
       "      <td>7.659383</td>\n",
       "      <td>8.645201</td>\n",
       "      <td>12.004116</td>\n",
       "      <td>5.742578</td>\n",
       "    </tr>\n",
       "  </tbody>\n",
       "</table>\n",
       "<p>5 rows × 22 columns</p>\n",
       "</div>"
      ],
      "text/plain": [
       "Jahr              2000       2001       2002       2003       2004       2005  \\\n",
       "Gebiet                                                                          \n",
       "Afghanistan   7.197108   7.281792   7.123594   7.053904   7.034545   6.910225   \n",
       "Africa       10.093091  10.013195  10.017222  10.010037   9.915320   9.732854   \n",
       "Albania       5.104753   4.418037   4.479788   4.595087   4.502845   6.913495   \n",
       "Algeria       4.140792   3.921089   3.803862   3.521953   3.327965   3.218484   \n",
       "Andorra       9.685721  10.776894  10.718483   9.985846  11.859435  10.398196   \n",
       "\n",
       "Jahr              2006       2007       2008      2009  ...      2012  \\\n",
       "Gebiet                                                  ...             \n",
       "Afghanistan   6.608689   6.476178   6.302887  5.891947  ...  5.774172   \n",
       "Africa        9.715343   9.649155   9.645603  9.606206  ...  9.522184   \n",
       "Albania       6.862893   6.947456   6.954976  6.820407  ...  4.092385   \n",
       "Algeria       3.081167   2.945067   2.815762  2.683964  ...  2.364761   \n",
       "Andorra      10.702955  10.374284  10.033582  9.822695  ...  8.119903   \n",
       "\n",
       "Jahr             2013      2014      2015      2016      2017      2018  \\\n",
       "Gebiet                                                                    \n",
       "Afghanistan  5.685669  5.535404  5.319865  5.322144  5.470633  5.424701   \n",
       "Africa       9.436768  9.414608  9.401263  9.310595  9.228361  9.374145   \n",
       "Albania      4.056547  3.798754  3.580979  3.450706  3.292069  3.141507   \n",
       "Algeria      2.327027  2.295923  2.225488  2.135747  2.136896  2.172493   \n",
       "Andorra      9.338710  9.277415  9.163852  9.708513  8.330241  7.659383   \n",
       "\n",
       "Jahr             2019       2020      2021  \n",
       "Gebiet                                      \n",
       "Afghanistan  5.367804   5.324850  5.320608  \n",
       "Africa       9.355742   9.379318  9.580948  \n",
       "Albania      3.026028   2.507422  2.143994  \n",
       "Algeria      2.170682   1.848795  2.320863  \n",
       "Andorra      8.645201  12.004116  5.742578  \n",
       "\n",
       "[5 rows x 22 columns]"
      ]
     },
     "execution_count": 3,
     "metadata": {},
     "output_type": "execute_result"
    }
   ],
   "source": [
    "df_pivot = df.pivot(index='Gebiet', columns='Jahr', values='Suizidrate')\n",
    "df_pivot.head()"
   ]
  },
  {
   "cell_type": "markdown",
   "id": "28195847",
   "metadata": {},
   "source": [
    "## 3. Statistik der Rohdaten (Analyse im Long-Format)\n",
    "- Die Daten dieser Arbeit sind diskrete Daten\n",
    "\n",
    "- Die Spalte *Gebiete* enthält 201 verschieden Gebiete\n",
    "- Die Spalte *Codes* enthält 196 verschiedene Codes\n",
    "- Es sind Daten zwischen 2000 and 2021 vorhanden. Die Daten sind seit dem Zeitpunkt der Datenerhebung in 2000 vollständig.\n",
    "- Die Suizidrate pro 100'000 Einwohner streut zwischen 0 und 47.8 Personen.\n",
    "\n",
    "- Wie ist die Verteilung der zu untersuchenden Variabel(n) (Histogram, Boxplot, Säulendiagram)\n",
    "- Vermutest du Zusammenhänge zwischen zwei Variabeln (Streuungsdiagramm, Korrelationsmatrix)\n",
    "\n",
    "*Notiz: Zu jeder Kolumne sollte generell eine Aussage möglich sein.*"
   ]
  },
  {
   "cell_type": "code",
   "execution_count": 4,
   "id": "6db8081e",
   "metadata": {},
   "outputs": [
    {
     "data": {
      "text/plain": [
       "Gebiet         object\n",
       "Code           object\n",
       "Jahr            int64\n",
       "Suizidrate    float64\n",
       "dtype: object"
      ]
     },
     "execution_count": 4,
     "metadata": {},
     "output_type": "execute_result"
    }
   ],
   "source": [
    "df.dtypes"
   ]
  },
  {
   "cell_type": "markdown",
   "id": "f3550d9a",
   "metadata": {},
   "source": [
    "### 3.1 Analyse Gebiete"
   ]
  },
  {
   "cell_type": "code",
   "execution_count": 5,
   "id": "c5594a4b",
   "metadata": {},
   "outputs": [
    {
     "name": "stdout",
     "output_type": "stream",
     "text": [
      "Anzahl verschiedener Gebiete:  201\n"
     ]
    }
   ],
   "source": [
    "print('Anzahl verschiedener Gebiete: ', len(df['Gebiet'].unique()))"
   ]
  },
  {
   "cell_type": "code",
   "execution_count": 16,
   "id": "c1f06ff4",
   "metadata": {},
   "outputs": [
    {
     "data": {
      "text/plain": [
       "Gebiet\n",
       "Afghanistan    22\n",
       "Palau          22\n",
       "Niger          22\n",
       "Nigeria        22\n",
       "Niue           22\n",
       "               ..\n",
       "Ghana          22\n",
       "Greece         22\n",
       "Grenada        22\n",
       "Guatemala      22\n",
       "Zimbabwe       22\n",
       "Name: count, Length: 201, dtype: int64"
      ]
     },
     "execution_count": 16,
     "metadata": {},
     "output_type": "execute_result"
    }
   ],
   "source": [
    "df['Gebiet'].value_counts()"
   ]
  },
  {
   "cell_type": "code",
   "execution_count": 7,
   "id": "f1b8171f",
   "metadata": {},
   "outputs": [
    {
     "data": {
      "text/plain": [
       "<Axes: title={'center': 'Anzahl Datenpunkte pro Gebiet'}, xlabel='Gebiet', ylabel='Anzahl Datenpunkte'>"
      ]
     },
     "execution_count": 7,
     "metadata": {},
     "output_type": "execute_result"
    },
    {
     "data": {
      "image/png": "[encoded data removed]",
      "text/plain": [
       "<Figure size 640x480 with 1 Axes>"
      ]
     },
     "metadata": {},
     "output_type": "display_data"
    }
   ],
   "source": [
    "df['Gebiet'].value_counts().plot(kind='bar', \n",
    "                                 xticks=[],     # disable labels on x-axis\n",
    "                                 ylabel='Anzahl Datenpunkte', title='Anzahl Datenpunkte pro Gebiet')"
   ]
  },
  {
   "cell_type": "markdown",
   "id": "41de9acc",
   "metadata": {},
   "source": [
    "### 3.2 Analyse codes"
   ]
  },
  {
   "cell_type": "code",
   "execution_count": 8,
   "id": "7d239705",
   "metadata": {},
   "outputs": [
    {
     "name": "stdout",
     "output_type": "stream",
     "text": [
      "Anzahl verschiedener Codes:  196\n"
     ]
    }
   ],
   "source": [
    "print('Anzahl verschiedener Codes: ', len(df['Code'].unique()))"
   ]
  },
  {
   "cell_type": "code",
   "execution_count": 17,
   "id": "46218da3",
   "metadata": {},
   "outputs": [
    {
     "data": {
      "text/plain": [
       "Code\n",
       "AFG    22\n",
       "LCA    22\n",
       "NIC    22\n",
       "NER    22\n",
       "NGA    22\n",
       "       ..\n",
       "GHA    22\n",
       "GRC    22\n",
       "GRD    22\n",
       "GTM    22\n",
       "ZWE    22\n",
       "Name: count, Length: 195, dtype: int64"
      ]
     },
     "execution_count": 17,
     "metadata": {},
     "output_type": "execute_result"
    }
   ],
   "source": [
    "df['Code'].value_counts()"
   ]
  },
  {
   "cell_type": "code",
   "execution_count": 10,
   "id": "6c6eec82",
   "metadata": {},
   "outputs": [
    {
     "data": {
      "image/png": "[encoded data removed]",
      "text/plain": [
       "<Figure size 640x480 with 1 Axes>"
      ]
     },
     "metadata": {},
     "output_type": "display_data"
    }
   ],
   "source": [
    "df['Code'].value_counts().plot(kind='bar',xticks=[], ylabel='Anzahl Datenpunkte', title='Anzahl Datenpunkte pro Code');"
   ]
  },
  {
   "cell_type": "markdown",
   "id": "fe4ad5e3",
   "metadata": {},
   "source": [
    "### 3.3 Analyse Jahre"
   ]
  },
  {
   "cell_type": "code",
   "execution_count": 11,
   "id": "44843bbe",
   "metadata": {},
   "outputs": [
    {
     "name": "stdout",
     "output_type": "stream",
     "text": [
      "Anzahl verschiedener Jahre:  22\n"
     ]
    }
   ],
   "source": [
    "print('Anzahl verschiedener Jahre: ', len(df['Jahr'].unique()))"
   ]
  },
  {
   "cell_type": "code",
   "execution_count": null,
   "id": "1407b3a0",
   "metadata": {},
   "outputs": [
    {
     "data": {
      "text/plain": [
       "Jahr\n",
       "2000    201\n",
       "2001    201\n",
       "2002    201\n",
       "2003    201\n",
       "2004    201\n",
       "2005    201\n",
       "2006    201\n",
       "2007    201\n",
       "2008    201\n",
       "2009    201\n",
       "2010    201\n",
       "2011    201\n",
       "2012    201\n",
       "2013    201\n",
       "2014    201\n",
       "2015    201\n",
       "2016    201\n",
       "2017    201\n",
       "2018    201\n",
       "2019    201\n",
       "2020    201\n",
       "2021    201\n",
       "Name: count, dtype: int64"
      ]
     },
     "execution_count": 12,
     "metadata": {},
     "output_type": "execute_result"
    }
   ],
   "source": [
    "df['Jahr'].value_counts().sort_index()"
   ]
  },
  {
   "cell_type": "code",
   "execution_count": 20,
   "id": "56be4cd8",
   "metadata": {},
   "outputs": [
    {
     "data": {
      "text/plain": [
       "<matplotlib.legend.Legend at 0x20c7b1254c0>"
      ]
     },
     "execution_count": 20,
     "metadata": {},
     "output_type": "execute_result"
    },
    {
     "data": {
      "image/png": "[encoded data removed]",
      "text/plain": [
       "<Figure size 640x480 with 1 Axes>"
      ]
     },
     "metadata": {},
     "output_type": "display_data"
    }
   ],
   "source": [
    "g = df['Jahr'].value_counts().sort_index().plot(ylabel='Anzahl Datenpunkte', title='Anzahl Datenpunkte pro Jahr');\n",
    "g.axvline(x=2000, color='red',label='2000') # rote Linie bei 2000 - ab hier sind alle Jahre enthalten\n",
    "g.legend()  # Legende anzeigen"
   ]
  },
  {
   "cell_type": "markdown",
   "id": "6e77adc3",
   "metadata": {},
   "source": [
    "### 3.4 Analyse Suizide"
   ]
  },
  {
   "cell_type": "code",
   "execution_count": 14,
   "id": "2ce6a39a",
   "metadata": {},
   "outputs": [
    {
     "data": {
      "text/html": [
       "<div>\n",
       "<style scoped>\n",
       "    .dataframe tbody tr th:only-of-type {\n",
       "        vertical-align: middle;\n",
       "    }\n",
       "\n",
       "    .dataframe tbody tr th {\n",
       "        vertical-align: top;\n",
       "    }\n",
       "\n",
       "    .dataframe thead th {\n",
       "        text-align: right;\n",
       "    }\n",
       "</style>\n",
       "<table border=\"1\" class=\"dataframe\">\n",
       "  <thead>\n",
       "    <tr style=\"text-align: right;\">\n",
       "      <th></th>\n",
       "      <th>Jahr</th>\n",
       "      <th>Suizidrate</th>\n",
       "    </tr>\n",
       "  </thead>\n",
       "  <tbody>\n",
       "    <tr>\n",
       "      <th>count</th>\n",
       "      <td>4422.000000</td>\n",
       "      <td>4422.000000</td>\n",
       "    </tr>\n",
       "    <tr>\n",
       "      <th>mean</th>\n",
       "      <td>2010.500000</td>\n",
       "      <td>10.522733</td>\n",
       "    </tr>\n",
       "    <tr>\n",
       "      <th>std</th>\n",
       "      <td>6.345006</td>\n",
       "      <td>6.998967</td>\n",
       "    </tr>\n",
       "    <tr>\n",
       "      <th>min</th>\n",
       "      <td>2000.000000</td>\n",
       "      <td>0.000000</td>\n",
       "    </tr>\n",
       "    <tr>\n",
       "      <th>25%</th>\n",
       "      <td>2005.000000</td>\n",
       "      <td>5.339155</td>\n",
       "    </tr>\n",
       "    <tr>\n",
       "      <th>50%</th>\n",
       "      <td>2010.500000</td>\n",
       "      <td>9.574253</td>\n",
       "    </tr>\n",
       "    <tr>\n",
       "      <th>75%</th>\n",
       "      <td>2016.000000</td>\n",
       "      <td>13.685492</td>\n",
       "    </tr>\n",
       "    <tr>\n",
       "      <th>max</th>\n",
       "      <td>2021.000000</td>\n",
       "      <td>47.826057</td>\n",
       "    </tr>\n",
       "  </tbody>\n",
       "</table>\n",
       "</div>"
      ],
      "text/plain": [
       "              Jahr   Suizidrate\n",
       "count  4422.000000  4422.000000\n",
       "mean   2010.500000    10.522733\n",
       "std       6.345006     6.998967\n",
       "min    2000.000000     0.000000\n",
       "25%    2005.000000     5.339155\n",
       "50%    2010.500000     9.574253\n",
       "75%    2016.000000    13.685492\n",
       "max    2021.000000    47.826057"
      ]
     },
     "execution_count": 14,
     "metadata": {},
     "output_type": "execute_result"
    }
   ],
   "source": [
    "df.describe()"
   ]
  },
  {
   "cell_type": "code",
   "execution_count": 23,
   "id": "db373073",
   "metadata": {},
   "outputs": [
    {
     "data": {
      "text/plain": [
       "<matplotlib.legend.Legend at 0x20c00128f50>"
      ]
     },
     "execution_count": 23,
     "metadata": {},
     "output_type": "execute_result"
    },
    {
     "data": {
      "image/png": "[encoded data removed]",
      "text/plain": [
       "<Figure size 640x480 with 1 Axes>"
      ]
     },
     "metadata": {},
     "output_type": "display_data"
    }
   ],
   "source": [
    "g = df['Suizidrate'].plot(kind='hist', bins=20, title=\"Histogramm der Suizidrate pro 100'000 Einwohner\", \n",
    "                           xlabel='Suizidrate', ylabel='Anzahl Datenpunkte')\n",
    "mean = df['Suizidrate'].mean()\n",
    "g.axvline(x=df['Suizidrate'].mean(), color='red',label=f'Mittelwert = {mean:.2f}')  # rote Linie bei Mittelwert\n",
    "\n",
    "median = df['Suizidrate'].median()\n",
    "g.axvline(x=df['Suizidrate'].median(), color='pink',label=  f'Median = {median:.2f}')  # orange Linie bei Median\n",
    "\n",
    "g.legend()\n"
   ]
  },
  {
   "cell_type": "markdown",
   "id": "bbdf3294",
   "metadata": {},
   "source": [
    "## 4. Analyse \n",
    "\n",
    "### Vorgehen\n",
    "- Spezifische Untersuchung der Fragestellung (Berechnungen)\n",
    "- Visualisieren der Resultate: Verwendet Achsenbeschriftung und überlegt euch, welche Art von Darstellung sinnvoll ist (Kuchen-, Säulen, Liniendiagramm; 2 y-Achsen?)\n",
    "- Beschreiben der Beobachtungen\n",
    "- Interpretation der Resultate (Hypothesen zu den Resultaten)\n",
    "- Untermauern der Interpretation mittels Hinweise zur Literatur (Mögliche Zusammenhänge aufzeigen).\n",
    "\n"
   ]
  },
  {
   "cell_type": "markdown",
   "id": "198b8c0e",
   "metadata": {},
   "source": [
    "### Beobachtungen\n",
    "\n",
    "### Interpretation"
   ]
  },
  {
   "cell_type": "markdown",
   "id": "7416bc1d",
   "metadata": {},
   "source": [
    "### Berechnungen"
   ]
  },
  {
   "cell_type": "code",
   "execution_count": 26,
   "metadata": {},
   "outputs": [
    {
     "data": {
      "text/plain": [
       "Gebiet\n",
       "Belarus       -17.123154\n",
       "Lithuania     -15.306593\n",
       "Russia        -11.954531\n",
       "Kazakhstan    -11.446339\n",
       "Botswana       -8.139555\n",
       "                 ...    \n",
       "Zimbabwe        3.122973\n",
       "South Sudan     4.096468\n",
       "Uruguay         6.943131\n",
       "Eswatini        6.982892\n",
       "Thailand        7.047281\n",
       "Length: 201, dtype: float64"
      ]
     },
     "execution_count": 26,
     "metadata": {},
     "output_type": "execute_result"
    }
   ],
   "source": [
    "diffs = df_pivot[2021]-df_pivot[2011]   # Differenz zwischen 2021 und 2011\n",
    "diffs = diffs.sort_values().dropna()  # sortieren nach Differenz und NaN-Werte entfernen\n",
    "diffs"
   ]
  },
  {
   "cell_type": "code",
   "execution_count": 27,
   "id": "1ee266bc",
   "metadata": {},
   "outputs": [
    {
     "data": {
      "text/plain": [
       "<Axes: title={'center': 'Grösste und kleinste Differenzen der Suizidrate 2011-2021'}, ylabel='Gebiet'>"
      ]
     },
     "execution_count": 27,
     "metadata": {},
     "output_type": "execute_result"
    },
    {
     "data": {
      "image/png": "[encoded data removed]",
      "text/plain": [
       "<Figure size 640x480 with 1 Axes>"
      ]
     },
     "metadata": {},
     "output_type": "display_data"
    }
   ],
   "source": [
    "diff_sel = (diffs < -4) | (diffs > 5)  # Auswahl der grössten und kleinsten Differenzen\n",
    "diffs[diff_sel].plot(kind='barh', title='Grösste und kleinste Differenzen der Suizidrate 2011-2021')"
   ]
  },
  {
   "cell_type": "code",
   "execution_count": null,
   "id": "0d7350c2",
   "metadata": {},
   "outputs": [],
   "source": []
  }
 ],
 "metadata": {
  "kernelspec": {
   "display_name": "base",
   "language": "python",
   "name": "python3"
  },
  "language_info": {
   "codemirror_mode": {
    "name": "ipython",
    "version": 3
   },
   "file_extension": ".py",
   "mimetype": "text/x-python",
   "name": "python",
   "nbconvert_exporter": "python",
   "pygments_lexer": "ipython3",
   "version": "3.12.4"
  }
 },
 "nbformat": 4,
 "nbformat_minor": 5
}
